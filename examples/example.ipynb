{
  "cells": [
    {
      "cell_type": "markdown",
      "metadata": {
        "id": "0kA97_xH6hlx"
      },
      "source": [
        "# Readme Ready Example"
      ]
    },
    {
      "cell_type": "markdown",
      "metadata": {},
      "source": [
        "## Install Readme Ready"
      ]
    },
    {
      "cell_type": "code",
      "execution_count": null,
      "metadata": {
        "colab": {
          "base_uri": "https://localhost:8080/"
        },
        "id": "Q2mrR0s6-hfi",
        "outputId": "e816aa5a-8953-49b8-d5f8-37e3ac9b2206"
      },
      "outputs": [],
      "source": [
        "%pip install -U readme-ready huggingface_hub"
      ]
    },
    {
      "cell_type": "markdown",
      "metadata": {},
      "source": [
        "## Set environment variables"
      ]
    },
    {
      "cell_type": "code",
      "execution_count": null,
      "metadata": {
        "colab": {
          "base_uri": "https://localhost:8080/"
        },
        "id": "SanQ25iEb5My",
        "outputId": "a0bf97d4-1548-4f2f-aac7-e4e0c37237d5"
      },
      "outputs": [],
      "source": [
        "import os\n",
        "from huggingface_hub import login\n",
        "HF_TOKEN = \"hf_fake_token\" # replace with your Hugging Face token\n",
        "OPENAI_API_KEY = \"fake_openai_api_key\" # replace with your OpenAI API key\n",
        "os.environ[\"OPENAI_API_KEY\"] = OPENAI_API_KEY\n",
        "os.environ[\"HF_TOKEN\"] = HF_TOKEN\n",
        "login(token=HF_TOKEN, add_to_git_credential=False)"
      ]
    },
    {
      "cell_type": "markdown",
      "metadata": {},
      "source": [
        "## Download a sample repository"
      ]
    },
    {
      "cell_type": "code",
      "execution_count": null,
      "metadata": {
        "colab": {
          "base_uri": "https://localhost:8080/"
        },
        "id": "MnYd5wo3lURX",
        "outputId": "e1536c6f-529e-4d01-c7ce-dadd8d0a6ef7"
      },
      "outputs": [],
      "source": [
        "!git clone https://github.com/eth-siplab/TouchPose.git"
      ]
    },
    {
      "cell_type": "code",
      "execution_count": 5,
      "metadata": {
        "id": "4YuGtYkBaUbf"
      },
      "outputs": [],
      "source": [
        "!rm -rf ./TouchPose/.gitignore\n",
        "!rm -rf ./TouchPose/.git\n",
        "!rm -rf ./TouchPose/README.md"
      ]
    },
    {
      "cell_type": "markdown",
      "metadata": {},
      "source": [
        "## Generate README for the sample repository"
      ]
    },
    {
      "cell_type": "code",
      "execution_count": null,
      "metadata": {
        "colab": {
          "base_uri": "https://localhost:8080/",
          "height": 350
        },
        "id": "Jc-mYnTpOEwl",
        "outputId": "60eeffc4-680a-44cf-96a4-97a9ce4cf39b"
      },
      "outputs": [],
      "source": [
        "from readme_ready.query import query\n",
        "from readme_ready.index import index\n",
        "from readme_ready.types import (\n",
        "    AutodocReadmeConfig,\n",
        "    AutodocRepoConfig,\n",
        "    AutodocUserConfig,\n",
        "    LLMModels,\n",
        ")\n",
        "\n",
        "# Choose model from supported models\n",
        "model = LLMModels.LLAMA2_7B_CHAT_GPTQ\n",
        "\n",
        "# Initialize the repository configuration. `root` refers to the path to the\n",
        "# code repository for which you want to generate a README for. Please download\n",
        "# any code repository from GitHub and use that or if you have your own\n",
        "# repository downloaded (say 'MyRepo') you can use that as well.\n",
        "# Set `name` to the 'MyRepo'.\n",
        "# Set `root` as <path to 'MyRepo'>.\n",
        "# Set `repository_url` to the GitHub URL of 'MyRepo' (if any) else leave blank.\n",
        "# Set `output` as the path to the directory where the README and other metadata\n",
        "# will be generated and saved.\n",
        "# Set other parameters accordingly (or leave as default).\n",
        "\n",
        "repo_config = AutodocRepoConfig (\n",
        "    name = \"TouchPose\", # Set repository name\n",
        "    root = \"./TouchPose\", # Set path to root directory of the repository\n",
        "    repository_url = \"https://github.com/eth-siplab/TouchPose\", # Set url\n",
        "    output = \"./output/TouchPose\", # Set path to output directory to save\n",
        "    llms = [model],\n",
        "    peft_model_path = None, # Set path to PEFT model\n",
        "    ignore = [\n",
        "        \".*\",\n",
        "        \"*package-lock.json\",\n",
        "        \"*package.json\",\n",
        "        \"node_modules\",\n",
        "        \"*dist*\",\n",
        "        \"*build*\",\n",
        "        \"*test*\",\n",
        "        \"*.svg\",\n",
        "        \"*.md\",\n",
        "        \"*.mdx\",\n",
        "        \"*.toml\"\n",
        "    ],\n",
        "    file_prompt = \"\",\n",
        "    folder_prompt = \"\",\n",
        "    chat_prompt = \"\",\n",
        "    content_type = \"docs\",\n",
        "    target_audience = \"smart developer\",\n",
        "    link_hosted = True,\n",
        "    priority = None,\n",
        "    max_concurrent_calls = 50,\n",
        "    add_questions = False,\n",
        "    device = \"auto\", # Select device \"cpu\" or \"auto\"\n",
        ")\n",
        "\n",
        "user_config = AutodocUserConfig(\n",
        "    llms = [model]\n",
        ")\n",
        "\n",
        "readme_config = AutodocReadmeConfig(\n",
        "    # Set comma separated list of README headings\n",
        "    headings = \"Description,Requirements,Installation,Usage,Contributing,License\"\n",
        ")\n",
        "\n",
        "index.index(repo_config)\n",
        "query.generate_readme(repo_config, user_config, readme_config)"
      ]
    }
  ],
  "metadata": {
    "accelerator": "GPU",
    "colab": {
      "collapsed_sections": [
        "7B3jLeQxcaPe"
      ],
      "gpuType": "T4",
      "provenance": []
    },
    "kernelspec": {
      "display_name": "gym",
      "language": "python",
      "name": "python3"
    },
    "language_info": {
      "codemirror_mode": {
        "name": "ipython",
        "version": 3
      },
      "file_extension": ".py",
      "mimetype": "text/x-python",
      "name": "python",
      "nbconvert_exporter": "python",
      "pygments_lexer": "ipython3",
      "version": "3.11.9"
    }
  },
  "nbformat": 4,
  "nbformat_minor": 0
}
